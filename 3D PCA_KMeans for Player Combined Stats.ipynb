{
 "metadata": {
  "language_info": {
   "codemirror_mode": {
    "name": "ipython",
    "version": 3
   },
   "file_extension": ".py",
   "mimetype": "text/x-python",
   "name": "python",
   "nbconvert_exporter": "python",
   "pygments_lexer": "ipython3",
   "version": "3.8.5"
  },
  "orig_nbformat": 2,
  "kernelspec": {
   "name": "python3",
   "display_name": "Python 3",
   "language": "python"
  }
 },
 "nbformat": 4,
 "nbformat_minor": 2,
 "cells": [
  {
   "cell_type": "code",
   "execution_count": 1,
   "metadata": {},
   "outputs": [],
   "source": [
    "%matplotlib widget\n",
    "\n",
    "import matplotlib.pyplot as plt\n",
    "from matplotlib import cm\n",
    "import pandas as pd\n",
    "\n",
    "from mpl_toolkits.mplot3d import axes3d\n",
    "\n",
    "import scipy as sp\n",
    "import scipy.interpolate\n",
    "\n",
    "import numpy as np\n",
    "\n",
    "from mpl_toolkits.mplot3d.proj3d import proj_transform\n",
    "from matplotlib.text import Annotation\n",
    "from mpl_toolkits.mplot3d import Axes3D\n",
    "\n",
    "import seaborn as sns\n",
    "from sklearn.preprocessing import StandardScaler\n",
    "from sklearn.cluster import KMeans\n",
    "from sklearn.decomposition import PCA\n",
    "\n",
    "#%matplotlib inline\n",
    "sns.set_style('darkgrid') # set the grid style for the seaborn plots\n",
    "pd.set_option('display.float_format', lambda x: '%.5f' % x) # suppress scientific notation in pandas"
   ]
  },
  {
   "cell_type": "code",
   "execution_count": 2,
   "metadata": {},
   "outputs": [
    {
     "output_type": "execute_result",
     "data": {
      "text/plain": [
       "         Age  Matches Played  Matches Started  Minutes Played  90s Played  \\\n",
       "0   19.00000        31.00000         15.00000      1726.00000    19.20000   \n",
       "1   24.00000        17.00000          5.00000       611.00000     6.80000   \n",
       "2   29.00000        25.00000         22.00000      1963.00000    21.80000   \n",
       "3   27.00000        21.00000         16.00000      1354.00000    15.00000   \n",
       "4   28.00000        18.00000         15.00000      1333.00000    14.80000   \n",
       "..       ...             ...              ...             ...         ...   \n",
       "388 29.00000        21.00000         21.00000      1812.00000    20.10000   \n",
       "389 29.00000        23.00000         22.00000      1877.00000    20.90000   \n",
       "390 31.00000        14.00000          1.00000       357.00000     4.00000   \n",
       "391 28.00000        20.00000         19.00000      1712.00000    19.00000   \n",
       "392 27.00000        14.00000         10.00000       787.00000     8.70000   \n",
       "\n",
       "      Goals  Assists  Non-Penalty Goals  Penalties Scored  \\\n",
       "0   0.26000  0.05000            0.26000           0.00000   \n",
       "1   0.00000  0.00000            0.00000           0.00000   \n",
       "2   0.96000  0.28000            0.78000           0.18000   \n",
       "3   0.20000  0.07000            0.20000           0.00000   \n",
       "4   0.14000  0.07000            0.14000           0.00000   \n",
       "..      ...      ...                ...               ...   \n",
       "388 0.50000  0.25000            0.30000           0.20000   \n",
       "389 0.24000  0.00000            0.24000           0.00000   \n",
       "390 0.00000  0.25000            0.00000           0.00000   \n",
       "391 0.47000  0.11000            0.37000           0.11000   \n",
       "392 0.11000  0.34000            0.11000           0.00000   \n",
       "\n",
       "     Penalties Attempted  ...  Aerials Lost  Aerial Win %  Tackles Attempted  \\\n",
       "0                0.00000  ...       1.56000      50.00000            1.20000   \n",
       "1                0.00000  ...       3.53000      41.50000            1.47000   \n",
       "2                0.18000  ...       0.69000      28.60000            0.78000   \n",
       "3                0.00000  ...       2.33000      47.00000            1.67000   \n",
       "4                0.00000  ...       1.28000      20.80000            3.52000   \n",
       "..                   ...  ...           ...           ...                ...   \n",
       "388              0.20000  ...       5.72000      22.80000            0.90000   \n",
       "389              0.00000  ...       5.55000      48.90000            0.90000   \n",
       "390              0.00000  ...       0.75000      50.00000            2.25000   \n",
       "391              0.11000  ...       1.21000      25.80000            1.48000   \n",
       "392              0.00000  ...       1.95000      10.50000            1.49000   \n",
       "\n",
       "     Tackle Success %  Turnovers  Shots per Touch  \\\n",
       "0            47.50000    5.94000          0.08029   \n",
       "1            40.13605    5.15000          0.03587   \n",
       "2            47.43590    5.74000          0.09883   \n",
       "3            52.09581   10.00000          0.04891   \n",
       "4            57.67045    3.72000          0.03025   \n",
       "..                ...        ...              ...   \n",
       "388          61.11111    6.18000          0.06393   \n",
       "389          63.33333    4.84000          0.05842   \n",
       "390          55.55556    4.75000          0.03739   \n",
       "391          50.00000    9.26000          0.05333   \n",
       "392          30.87248    4.48000          0.03893   \n",
       "\n",
       "     Share of Touches in the Final Third %  Deep Progressions  \\\n",
       "0                                 48.82212            1.95910   \n",
       "1                                 51.23068            1.92226   \n",
       "2                                 63.07490            3.14566   \n",
       "3                                 46.96429            4.51500   \n",
       "4                                 38.57255            2.67244   \n",
       "..                                     ...                ...   \n",
       "388                               51.01027            2.22253   \n",
       "389                               50.36427            1.31620   \n",
       "390                               45.37488            5.04406   \n",
       "391                               53.76344            3.61548   \n",
       "392                               50.47915            6.02994   \n",
       "\n",
       "     Long Pass Preference %                                  Player_ID  \n",
       "0                   9.93873     Tammy Abraham_Swansea City_2017 - 2018  \n",
       "1                   3.01790        Benik Afobe_Bournemouth_2017 - 2018  \n",
       "2                   2.68976  Sergio Agüero_Manchester City_2017 - 2018  \n",
       "3                  23.41060       Michail Antonio_West Ham_2017 - 2018  \n",
       "4                   9.93459          Scott Arfield_Burnley_2017 - 2018  \n",
       "..                      ...                                        ...  \n",
       "388                 5.03960    Callum Wilson_Newcastle Utd_2020 - 2021  \n",
       "389                 4.29936             Chris Wood_Burnley_2020 - 2021  \n",
       "390                14.66276     Andriy Yarmolenko_West Ham_2020 - 2021  \n",
       "391                 7.92683   Wilfried Zaha_Crystal Palace_2020 - 2021  \n",
       "392                21.03448           Hakim Ziyech_Chelsea_2020 - 2021  \n",
       "\n",
       "[393 rows x 220 columns]"
      ],
      "text/html": "<div>\n<style scoped>\n    .dataframe tbody tr th:only-of-type {\n        vertical-align: middle;\n    }\n\n    .dataframe tbody tr th {\n        vertical-align: top;\n    }\n\n    .dataframe thead th {\n        text-align: right;\n    }\n</style>\n<table border=\"1\" class=\"dataframe\">\n  <thead>\n    <tr style=\"text-align: right;\">\n      <th></th>\n      <th>Age</th>\n      <th>Matches Played</th>\n      <th>Matches Started</th>\n      <th>Minutes Played</th>\n      <th>90s Played</th>\n      <th>Goals</th>\n      <th>Assists</th>\n      <th>Non-Penalty Goals</th>\n      <th>Penalties Scored</th>\n      <th>Penalties Attempted</th>\n      <th>...</th>\n      <th>Aerials Lost</th>\n      <th>Aerial Win %</th>\n      <th>Tackles Attempted</th>\n      <th>Tackle Success %</th>\n      <th>Turnovers</th>\n      <th>Shots per Touch</th>\n      <th>Share of Touches in the Final Third %</th>\n      <th>Deep Progressions</th>\n      <th>Long Pass Preference %</th>\n      <th>Player_ID</th>\n    </tr>\n  </thead>\n  <tbody>\n    <tr>\n      <th>0</th>\n      <td>19.00000</td>\n      <td>31.00000</td>\n      <td>15.00000</td>\n      <td>1726.00000</td>\n      <td>19.20000</td>\n      <td>0.26000</td>\n      <td>0.05000</td>\n      <td>0.26000</td>\n      <td>0.00000</td>\n      <td>0.00000</td>\n      <td>...</td>\n      <td>1.56000</td>\n      <td>50.00000</td>\n      <td>1.20000</td>\n      <td>47.50000</td>\n      <td>5.94000</td>\n      <td>0.08029</td>\n      <td>48.82212</td>\n      <td>1.95910</td>\n      <td>9.93873</td>\n      <td>Tammy Abraham_Swansea City_2017 - 2018</td>\n    </tr>\n    <tr>\n      <th>1</th>\n      <td>24.00000</td>\n      <td>17.00000</td>\n      <td>5.00000</td>\n      <td>611.00000</td>\n      <td>6.80000</td>\n      <td>0.00000</td>\n      <td>0.00000</td>\n      <td>0.00000</td>\n      <td>0.00000</td>\n      <td>0.00000</td>\n      <td>...</td>\n      <td>3.53000</td>\n      <td>41.50000</td>\n      <td>1.47000</td>\n      <td>40.13605</td>\n      <td>5.15000</td>\n      <td>0.03587</td>\n      <td>51.23068</td>\n      <td>1.92226</td>\n      <td>3.01790</td>\n      <td>Benik Afobe_Bournemouth_2017 - 2018</td>\n    </tr>\n    <tr>\n      <th>2</th>\n      <td>29.00000</td>\n      <td>25.00000</td>\n      <td>22.00000</td>\n      <td>1963.00000</td>\n      <td>21.80000</td>\n      <td>0.96000</td>\n      <td>0.28000</td>\n      <td>0.78000</td>\n      <td>0.18000</td>\n      <td>0.18000</td>\n      <td>...</td>\n      <td>0.69000</td>\n      <td>28.60000</td>\n      <td>0.78000</td>\n      <td>47.43590</td>\n      <td>5.74000</td>\n      <td>0.09883</td>\n      <td>63.07490</td>\n      <td>3.14566</td>\n      <td>2.68976</td>\n      <td>Sergio Agüero_Manchester City_2017 - 2018</td>\n    </tr>\n    <tr>\n      <th>3</th>\n      <td>27.00000</td>\n      <td>21.00000</td>\n      <td>16.00000</td>\n      <td>1354.00000</td>\n      <td>15.00000</td>\n      <td>0.20000</td>\n      <td>0.07000</td>\n      <td>0.20000</td>\n      <td>0.00000</td>\n      <td>0.00000</td>\n      <td>...</td>\n      <td>2.33000</td>\n      <td>47.00000</td>\n      <td>1.67000</td>\n      <td>52.09581</td>\n      <td>10.00000</td>\n      <td>0.04891</td>\n      <td>46.96429</td>\n      <td>4.51500</td>\n      <td>23.41060</td>\n      <td>Michail Antonio_West Ham_2017 - 2018</td>\n    </tr>\n    <tr>\n      <th>4</th>\n      <td>28.00000</td>\n      <td>18.00000</td>\n      <td>15.00000</td>\n      <td>1333.00000</td>\n      <td>14.80000</td>\n      <td>0.14000</td>\n      <td>0.07000</td>\n      <td>0.14000</td>\n      <td>0.00000</td>\n      <td>0.00000</td>\n      <td>...</td>\n      <td>1.28000</td>\n      <td>20.80000</td>\n      <td>3.52000</td>\n      <td>57.67045</td>\n      <td>3.72000</td>\n      <td>0.03025</td>\n      <td>38.57255</td>\n      <td>2.67244</td>\n      <td>9.93459</td>\n      <td>Scott Arfield_Burnley_2017 - 2018</td>\n    </tr>\n    <tr>\n      <th>...</th>\n      <td>...</td>\n      <td>...</td>\n      <td>...</td>\n      <td>...</td>\n      <td>...</td>\n      <td>...</td>\n      <td>...</td>\n      <td>...</td>\n      <td>...</td>\n      <td>...</td>\n      <td>...</td>\n      <td>...</td>\n      <td>...</td>\n      <td>...</td>\n      <td>...</td>\n      <td>...</td>\n      <td>...</td>\n      <td>...</td>\n      <td>...</td>\n      <td>...</td>\n      <td>...</td>\n    </tr>\n    <tr>\n      <th>388</th>\n      <td>29.00000</td>\n      <td>21.00000</td>\n      <td>21.00000</td>\n      <td>1812.00000</td>\n      <td>20.10000</td>\n      <td>0.50000</td>\n      <td>0.25000</td>\n      <td>0.30000</td>\n      <td>0.20000</td>\n      <td>0.20000</td>\n      <td>...</td>\n      <td>5.72000</td>\n      <td>22.80000</td>\n      <td>0.90000</td>\n      <td>61.11111</td>\n      <td>6.18000</td>\n      <td>0.06393</td>\n      <td>51.01027</td>\n      <td>2.22253</td>\n      <td>5.03960</td>\n      <td>Callum Wilson_Newcastle Utd_2020 - 2021</td>\n    </tr>\n    <tr>\n      <th>389</th>\n      <td>29.00000</td>\n      <td>23.00000</td>\n      <td>22.00000</td>\n      <td>1877.00000</td>\n      <td>20.90000</td>\n      <td>0.24000</td>\n      <td>0.00000</td>\n      <td>0.24000</td>\n      <td>0.00000</td>\n      <td>0.00000</td>\n      <td>...</td>\n      <td>5.55000</td>\n      <td>48.90000</td>\n      <td>0.90000</td>\n      <td>63.33333</td>\n      <td>4.84000</td>\n      <td>0.05842</td>\n      <td>50.36427</td>\n      <td>1.31620</td>\n      <td>4.29936</td>\n      <td>Chris Wood_Burnley_2020 - 2021</td>\n    </tr>\n    <tr>\n      <th>390</th>\n      <td>31.00000</td>\n      <td>14.00000</td>\n      <td>1.00000</td>\n      <td>357.00000</td>\n      <td>4.00000</td>\n      <td>0.00000</td>\n      <td>0.25000</td>\n      <td>0.00000</td>\n      <td>0.00000</td>\n      <td>0.00000</td>\n      <td>...</td>\n      <td>0.75000</td>\n      <td>50.00000</td>\n      <td>2.25000</td>\n      <td>55.55556</td>\n      <td>4.75000</td>\n      <td>0.03739</td>\n      <td>45.37488</td>\n      <td>5.04406</td>\n      <td>14.66276</td>\n      <td>Andriy Yarmolenko_West Ham_2020 - 2021</td>\n    </tr>\n    <tr>\n      <th>391</th>\n      <td>28.00000</td>\n      <td>20.00000</td>\n      <td>19.00000</td>\n      <td>1712.00000</td>\n      <td>19.00000</td>\n      <td>0.47000</td>\n      <td>0.11000</td>\n      <td>0.37000</td>\n      <td>0.11000</td>\n      <td>0.11000</td>\n      <td>...</td>\n      <td>1.21000</td>\n      <td>25.80000</td>\n      <td>1.48000</td>\n      <td>50.00000</td>\n      <td>9.26000</td>\n      <td>0.05333</td>\n      <td>53.76344</td>\n      <td>3.61548</td>\n      <td>7.92683</td>\n      <td>Wilfried Zaha_Crystal Palace_2020 - 2021</td>\n    </tr>\n    <tr>\n      <th>392</th>\n      <td>27.00000</td>\n      <td>14.00000</td>\n      <td>10.00000</td>\n      <td>787.00000</td>\n      <td>8.70000</td>\n      <td>0.11000</td>\n      <td>0.34000</td>\n      <td>0.11000</td>\n      <td>0.00000</td>\n      <td>0.00000</td>\n      <td>...</td>\n      <td>1.95000</td>\n      <td>10.50000</td>\n      <td>1.49000</td>\n      <td>30.87248</td>\n      <td>4.48000</td>\n      <td>0.03893</td>\n      <td>50.47915</td>\n      <td>6.02994</td>\n      <td>21.03448</td>\n      <td>Hakim Ziyech_Chelsea_2020 - 2021</td>\n    </tr>\n  </tbody>\n</table>\n<p>393 rows × 220 columns</p>\n</div>"
     },
     "metadata": {},
     "execution_count": 2
    }
   ],
   "source": [
    "data = pd.read_excel('data1.xlsx')\n",
    "\n",
    "data = data[data['90s Played'] > 3].reset_index(drop=True)\n",
    "data = data[data['Position'] != 'GK']\n",
    "data = data[(data['Position'] == 'FW') | (data['Position'] == 'FWMF')].reset_index(drop='True')\n",
    "\n",
    "data = data.drop(['Unnamed: 0','Player', 'Nationality', 'Position','Team', 'Season'], axis=1)\n",
    "data"
   ]
  },
  {
   "cell_type": "code",
   "execution_count": 3,
   "metadata": {},
   "outputs": [],
   "source": [
    "#Goalkeepers\n",
    "\n",
    "#data = data[['Player_ID','GK Saves','GK Save %','GK Post-Shot xG Against per Shot on Target','GK Post-Shot xG Against PlusMinus', 'GK Long Passes Completed', 'GK Long Pass Preference %', 'GK Average Pass Length (Yd)', 'GK Long Goal Kick Preference %','GK Average Goal Kick Length (Yd)', 'GK Sweeping Actions', 'GK Average Sweeping Action Distance From Goal (Yd)']]\n",
    "\n",
    "#Centerbacks\n",
    "\n",
    "#data = data[['Player_ID','Pass Completion %', 'Pressures','Fouls Committed','Tackle Success %','Tackles Won','Interceptions','Aerials Won','Aerial Win %','Short Passes Completed','Long Passes Completed','Goal Contributions per 90']]\n",
    "\n",
    "#Fullbacks\n",
    "\n",
    "#data = data[['Player_ID','Tackles + Interceptions','Pressures', 'Deep Progressions','Share of Touches in the Final Third %','Pass Completion %','Goal Contributions per 90','Dribbles Completed', 'Turnovers', 'Aerials Won', 'Crosses Completed into Opposition Box', 'Tackle Success %']]\n",
    "\n",
    "#Midfielders\n",
    "\n",
    "#data = data[['Player_ID', 'Passes Completed','Pass Completion %','Deep Progressions','xA', 'Goal Contributions per 90', 'Dribbles Completed','Fouls Won','Turnovers','Successful Pressures', 'Pressures', 'Tackles + Interceptions']]\n",
    "\n",
    "#Attacking Midfielders/Wingers\n",
    "\n",
    "#data = data[['Player_ID', 'Non-Penalty xG','Shots', 'Touches In Opposition Box', 'Pass Completion %', 'Crosses Completed into Opposition Box', 'xA','Fouls Won','Dribbles Completed','Turnovers', 'Successful Pressures', 'Goals per Shot']]\n",
    "\n",
    "#Strikers\n",
    "\n",
    "data = data[['Player_ID','Non-Penalty xG','Goals - xG','Shots','Touches In Opposition Box','Shots per Touch', 'xA','Successful Pressures','Pressures','Aerials Won','Dribbles Completed','Non-Penalty xG per Shot']]"
   ]
  },
  {
   "cell_type": "code",
   "execution_count": 4,
   "metadata": {},
   "outputs": [],
   "source": [
    "for i in range(len(data.columns)):\n",
    "    Attribute_id = 'Attribute_' + str(i)\n",
    "    Attribute_id = data.iloc[:,i]"
   ]
  },
  {
   "cell_type": "code",
   "execution_count": 5,
   "metadata": {},
   "outputs": [
    {
     "output_type": "execute_result",
     "data": {
      "text/plain": [
       "                                     Player_ID  Non-Penalty xG  Goals - xG  \\\n",
       "0       Tammy Abraham_Swansea City_2017 - 2018         0.33000    -0.07000   \n",
       "1          Benik Afobe_Bournemouth_2017 - 2018         0.21000    -0.21000   \n",
       "2    Sergio Agüero_Manchester City_2017 - 2018         0.62000     0.20000   \n",
       "3         Michail Antonio_West Ham_2017 - 2018         0.16000     0.04000   \n",
       "4            Scott Arfield_Burnley_2017 - 2018         0.08000     0.05000   \n",
       "..                                         ...             ...         ...   \n",
       "388    Callum Wilson_Newcastle Utd_2020 - 2021         0.32000     0.02000   \n",
       "389             Chris Wood_Burnley_2020 - 2021         0.36000    -0.12000   \n",
       "390     Andriy Yarmolenko_West Ham_2020 - 2021         0.10000    -0.10000   \n",
       "391   Wilfried Zaha_Crystal Palace_2020 - 2021         0.24000     0.16000   \n",
       "392           Hakim Ziyech_Chelsea_2020 - 2021         0.15000    -0.03000   \n",
       "\n",
       "      Shots  Touches In Opposition Box  Shots per Touch      xA  \\\n",
       "0   2.24000                    3.75000          0.08029 0.04000   \n",
       "1   1.18000                    4.12000          0.03587 0.01000   \n",
       "2   4.22000                    8.17000          0.09883 0.27000   \n",
       "3   2.47000                    2.60000          0.04891 0.04000   \n",
       "4   1.08000                    1.76000          0.03025 0.03000   \n",
       "..      ...                        ...              ...     ...   \n",
       "388 1.79000                    4.83000          0.06393 0.10000   \n",
       "389 1.77000                    3.68000          0.05842 0.05000   \n",
       "390 1.75000                    4.25000          0.03739 0.25000   \n",
       "391 2.32000                    5.47000          0.05333 0.11000   \n",
       "392 2.76000                    2.76000          0.03893 0.28000   \n",
       "\n",
       "     Successful Pressures  Pressures  Aerials Won  Dribbles Completed  \\\n",
       "0                 3.02000    9.27000      1.56000             1.35000   \n",
       "1                 4.85000   16.50000      2.50000             0.59000   \n",
       "2                 3.21000   12.00000      0.28000             1.42000   \n",
       "3                 4.07000   13.70000      2.07000             2.80000   \n",
       "4                 6.55000   26.80000      0.34000             0.81000   \n",
       "..                    ...        ...          ...                 ...   \n",
       "388               4.03000   13.70000      1.69000             1.24000   \n",
       "389               2.68000   10.20000      5.31000             0.33000   \n",
       "390               4.25000   12.80000      0.75000             1.75000   \n",
       "391               3.58000   17.80000      0.42000             1.74000   \n",
       "392               3.22000   14.30000      0.23000             1.03000   \n",
       "\n",
       "     Non-Penalty xG per Shot  \n",
       "0                    0.15000  \n",
       "1                    0.18000  \n",
       "2                    0.15000  \n",
       "3                    0.06000  \n",
       "4                    0.07000  \n",
       "..                       ...  \n",
       "388                  0.18000  \n",
       "389                  0.20000  \n",
       "390                  0.06000  \n",
       "391                  0.10000  \n",
       "392                  0.05000  \n",
       "\n",
       "[393 rows x 12 columns]"
      ],
      "text/html": "<div>\n<style scoped>\n    .dataframe tbody tr th:only-of-type {\n        vertical-align: middle;\n    }\n\n    .dataframe tbody tr th {\n        vertical-align: top;\n    }\n\n    .dataframe thead th {\n        text-align: right;\n    }\n</style>\n<table border=\"1\" class=\"dataframe\">\n  <thead>\n    <tr style=\"text-align: right;\">\n      <th></th>\n      <th>Player_ID</th>\n      <th>Non-Penalty xG</th>\n      <th>Goals - xG</th>\n      <th>Shots</th>\n      <th>Touches In Opposition Box</th>\n      <th>Shots per Touch</th>\n      <th>xA</th>\n      <th>Successful Pressures</th>\n      <th>Pressures</th>\n      <th>Aerials Won</th>\n      <th>Dribbles Completed</th>\n      <th>Non-Penalty xG per Shot</th>\n    </tr>\n  </thead>\n  <tbody>\n    <tr>\n      <th>0</th>\n      <td>Tammy Abraham_Swansea City_2017 - 2018</td>\n      <td>0.33000</td>\n      <td>-0.07000</td>\n      <td>2.24000</td>\n      <td>3.75000</td>\n      <td>0.08029</td>\n      <td>0.04000</td>\n      <td>3.02000</td>\n      <td>9.27000</td>\n      <td>1.56000</td>\n      <td>1.35000</td>\n      <td>0.15000</td>\n    </tr>\n    <tr>\n      <th>1</th>\n      <td>Benik Afobe_Bournemouth_2017 - 2018</td>\n      <td>0.21000</td>\n      <td>-0.21000</td>\n      <td>1.18000</td>\n      <td>4.12000</td>\n      <td>0.03587</td>\n      <td>0.01000</td>\n      <td>4.85000</td>\n      <td>16.50000</td>\n      <td>2.50000</td>\n      <td>0.59000</td>\n      <td>0.18000</td>\n    </tr>\n    <tr>\n      <th>2</th>\n      <td>Sergio Agüero_Manchester City_2017 - 2018</td>\n      <td>0.62000</td>\n      <td>0.20000</td>\n      <td>4.22000</td>\n      <td>8.17000</td>\n      <td>0.09883</td>\n      <td>0.27000</td>\n      <td>3.21000</td>\n      <td>12.00000</td>\n      <td>0.28000</td>\n      <td>1.42000</td>\n      <td>0.15000</td>\n    </tr>\n    <tr>\n      <th>3</th>\n      <td>Michail Antonio_West Ham_2017 - 2018</td>\n      <td>0.16000</td>\n      <td>0.04000</td>\n      <td>2.47000</td>\n      <td>2.60000</td>\n      <td>0.04891</td>\n      <td>0.04000</td>\n      <td>4.07000</td>\n      <td>13.70000</td>\n      <td>2.07000</td>\n      <td>2.80000</td>\n      <td>0.06000</td>\n    </tr>\n    <tr>\n      <th>4</th>\n      <td>Scott Arfield_Burnley_2017 - 2018</td>\n      <td>0.08000</td>\n      <td>0.05000</td>\n      <td>1.08000</td>\n      <td>1.76000</td>\n      <td>0.03025</td>\n      <td>0.03000</td>\n      <td>6.55000</td>\n      <td>26.80000</td>\n      <td>0.34000</td>\n      <td>0.81000</td>\n      <td>0.07000</td>\n    </tr>\n    <tr>\n      <th>...</th>\n      <td>...</td>\n      <td>...</td>\n      <td>...</td>\n      <td>...</td>\n      <td>...</td>\n      <td>...</td>\n      <td>...</td>\n      <td>...</td>\n      <td>...</td>\n      <td>...</td>\n      <td>...</td>\n      <td>...</td>\n    </tr>\n    <tr>\n      <th>388</th>\n      <td>Callum Wilson_Newcastle Utd_2020 - 2021</td>\n      <td>0.32000</td>\n      <td>0.02000</td>\n      <td>1.79000</td>\n      <td>4.83000</td>\n      <td>0.06393</td>\n      <td>0.10000</td>\n      <td>4.03000</td>\n      <td>13.70000</td>\n      <td>1.69000</td>\n      <td>1.24000</td>\n      <td>0.18000</td>\n    </tr>\n    <tr>\n      <th>389</th>\n      <td>Chris Wood_Burnley_2020 - 2021</td>\n      <td>0.36000</td>\n      <td>-0.12000</td>\n      <td>1.77000</td>\n      <td>3.68000</td>\n      <td>0.05842</td>\n      <td>0.05000</td>\n      <td>2.68000</td>\n      <td>10.20000</td>\n      <td>5.31000</td>\n      <td>0.33000</td>\n      <td>0.20000</td>\n    </tr>\n    <tr>\n      <th>390</th>\n      <td>Andriy Yarmolenko_West Ham_2020 - 2021</td>\n      <td>0.10000</td>\n      <td>-0.10000</td>\n      <td>1.75000</td>\n      <td>4.25000</td>\n      <td>0.03739</td>\n      <td>0.25000</td>\n      <td>4.25000</td>\n      <td>12.80000</td>\n      <td>0.75000</td>\n      <td>1.75000</td>\n      <td>0.06000</td>\n    </tr>\n    <tr>\n      <th>391</th>\n      <td>Wilfried Zaha_Crystal Palace_2020 - 2021</td>\n      <td>0.24000</td>\n      <td>0.16000</td>\n      <td>2.32000</td>\n      <td>5.47000</td>\n      <td>0.05333</td>\n      <td>0.11000</td>\n      <td>3.58000</td>\n      <td>17.80000</td>\n      <td>0.42000</td>\n      <td>1.74000</td>\n      <td>0.10000</td>\n    </tr>\n    <tr>\n      <th>392</th>\n      <td>Hakim Ziyech_Chelsea_2020 - 2021</td>\n      <td>0.15000</td>\n      <td>-0.03000</td>\n      <td>2.76000</td>\n      <td>2.76000</td>\n      <td>0.03893</td>\n      <td>0.28000</td>\n      <td>3.22000</td>\n      <td>14.30000</td>\n      <td>0.23000</td>\n      <td>1.03000</td>\n      <td>0.05000</td>\n    </tr>\n  </tbody>\n</table>\n<p>393 rows × 12 columns</p>\n</div>"
     },
     "metadata": {},
     "execution_count": 5
    }
   ],
   "source": [
    "data"
   ]
  },
  {
   "cell_type": "code",
   "execution_count": 6,
   "metadata": {},
   "outputs": [
    {
     "output_type": "execute_result",
     "data": {
      "text/plain": [
       "     Attribute_1  Attribute_2  Attribute_3  Attribute_4  Attribute_5  \\\n",
       "0        0.33000     -0.07000      2.24000      3.75000      0.08029   \n",
       "1        0.21000     -0.21000      1.18000      4.12000      0.03587   \n",
       "2        0.62000      0.20000      4.22000      8.17000      0.09883   \n",
       "3        0.16000      0.04000      2.47000      2.60000      0.04891   \n",
       "4        0.08000      0.05000      1.08000      1.76000      0.03025   \n",
       "..           ...          ...          ...          ...          ...   \n",
       "388      0.32000      0.02000      1.79000      4.83000      0.06393   \n",
       "389      0.36000     -0.12000      1.77000      3.68000      0.05842   \n",
       "390      0.10000     -0.10000      1.75000      4.25000      0.03739   \n",
       "391      0.24000      0.16000      2.32000      5.47000      0.05333   \n",
       "392      0.15000     -0.03000      2.76000      2.76000      0.03893   \n",
       "\n",
       "     Attribute_6  Attribute_7  Attribute_8  Attribute_9  Attribute_10  \\\n",
       "0        0.04000      3.02000      9.27000      1.56000       1.35000   \n",
       "1        0.01000      4.85000     16.50000      2.50000       0.59000   \n",
       "2        0.27000      3.21000     12.00000      0.28000       1.42000   \n",
       "3        0.04000      4.07000     13.70000      2.07000       2.80000   \n",
       "4        0.03000      6.55000     26.80000      0.34000       0.81000   \n",
       "..           ...          ...          ...          ...           ...   \n",
       "388      0.10000      4.03000     13.70000      1.69000       1.24000   \n",
       "389      0.05000      2.68000     10.20000      5.31000       0.33000   \n",
       "390      0.25000      4.25000     12.80000      0.75000       1.75000   \n",
       "391      0.11000      3.58000     17.80000      0.42000       1.74000   \n",
       "392      0.28000      3.22000     14.30000      0.23000       1.03000   \n",
       "\n",
       "     Attribute_11                                      Index  \n",
       "0         0.15000     Tammy Abraham_Swansea City_2017 - 2018  \n",
       "1         0.18000        Benik Afobe_Bournemouth_2017 - 2018  \n",
       "2         0.15000  Sergio Agüero_Manchester City_2017 - 2018  \n",
       "3         0.06000       Michail Antonio_West Ham_2017 - 2018  \n",
       "4         0.07000          Scott Arfield_Burnley_2017 - 2018  \n",
       "..            ...                                        ...  \n",
       "388       0.18000    Callum Wilson_Newcastle Utd_2020 - 2021  \n",
       "389       0.20000             Chris Wood_Burnley_2020 - 2021  \n",
       "390       0.06000     Andriy Yarmolenko_West Ham_2020 - 2021  \n",
       "391       0.10000   Wilfried Zaha_Crystal Palace_2020 - 2021  \n",
       "392       0.05000           Hakim Ziyech_Chelsea_2020 - 2021  \n",
       "\n",
       "[393 rows x 12 columns]"
      ],
      "text/html": "<div>\n<style scoped>\n    .dataframe tbody tr th:only-of-type {\n        vertical-align: middle;\n    }\n\n    .dataframe tbody tr th {\n        vertical-align: top;\n    }\n\n    .dataframe thead th {\n        text-align: right;\n    }\n</style>\n<table border=\"1\" class=\"dataframe\">\n  <thead>\n    <tr style=\"text-align: right;\">\n      <th></th>\n      <th>Attribute_1</th>\n      <th>Attribute_2</th>\n      <th>Attribute_3</th>\n      <th>Attribute_4</th>\n      <th>Attribute_5</th>\n      <th>Attribute_6</th>\n      <th>Attribute_7</th>\n      <th>Attribute_8</th>\n      <th>Attribute_9</th>\n      <th>Attribute_10</th>\n      <th>Attribute_11</th>\n      <th>Index</th>\n    </tr>\n  </thead>\n  <tbody>\n    <tr>\n      <th>0</th>\n      <td>0.33000</td>\n      <td>-0.07000</td>\n      <td>2.24000</td>\n      <td>3.75000</td>\n      <td>0.08029</td>\n      <td>0.04000</td>\n      <td>3.02000</td>\n      <td>9.27000</td>\n      <td>1.56000</td>\n      <td>1.35000</td>\n      <td>0.15000</td>\n      <td>Tammy Abraham_Swansea City_2017 - 2018</td>\n    </tr>\n    <tr>\n      <th>1</th>\n      <td>0.21000</td>\n      <td>-0.21000</td>\n      <td>1.18000</td>\n      <td>4.12000</td>\n      <td>0.03587</td>\n      <td>0.01000</td>\n      <td>4.85000</td>\n      <td>16.50000</td>\n      <td>2.50000</td>\n      <td>0.59000</td>\n      <td>0.18000</td>\n      <td>Benik Afobe_Bournemouth_2017 - 2018</td>\n    </tr>\n    <tr>\n      <th>2</th>\n      <td>0.62000</td>\n      <td>0.20000</td>\n      <td>4.22000</td>\n      <td>8.17000</td>\n      <td>0.09883</td>\n      <td>0.27000</td>\n      <td>3.21000</td>\n      <td>12.00000</td>\n      <td>0.28000</td>\n      <td>1.42000</td>\n      <td>0.15000</td>\n      <td>Sergio Agüero_Manchester City_2017 - 2018</td>\n    </tr>\n    <tr>\n      <th>3</th>\n      <td>0.16000</td>\n      <td>0.04000</td>\n      <td>2.47000</td>\n      <td>2.60000</td>\n      <td>0.04891</td>\n      <td>0.04000</td>\n      <td>4.07000</td>\n      <td>13.70000</td>\n      <td>2.07000</td>\n      <td>2.80000</td>\n      <td>0.06000</td>\n      <td>Michail Antonio_West Ham_2017 - 2018</td>\n    </tr>\n    <tr>\n      <th>4</th>\n      <td>0.08000</td>\n      <td>0.05000</td>\n      <td>1.08000</td>\n      <td>1.76000</td>\n      <td>0.03025</td>\n      <td>0.03000</td>\n      <td>6.55000</td>\n      <td>26.80000</td>\n      <td>0.34000</td>\n      <td>0.81000</td>\n      <td>0.07000</td>\n      <td>Scott Arfield_Burnley_2017 - 2018</td>\n    </tr>\n    <tr>\n      <th>...</th>\n      <td>...</td>\n      <td>...</td>\n      <td>...</td>\n      <td>...</td>\n      <td>...</td>\n      <td>...</td>\n      <td>...</td>\n      <td>...</td>\n      <td>...</td>\n      <td>...</td>\n      <td>...</td>\n      <td>...</td>\n    </tr>\n    <tr>\n      <th>388</th>\n      <td>0.32000</td>\n      <td>0.02000</td>\n      <td>1.79000</td>\n      <td>4.83000</td>\n      <td>0.06393</td>\n      <td>0.10000</td>\n      <td>4.03000</td>\n      <td>13.70000</td>\n      <td>1.69000</td>\n      <td>1.24000</td>\n      <td>0.18000</td>\n      <td>Callum Wilson_Newcastle Utd_2020 - 2021</td>\n    </tr>\n    <tr>\n      <th>389</th>\n      <td>0.36000</td>\n      <td>-0.12000</td>\n      <td>1.77000</td>\n      <td>3.68000</td>\n      <td>0.05842</td>\n      <td>0.05000</td>\n      <td>2.68000</td>\n      <td>10.20000</td>\n      <td>5.31000</td>\n      <td>0.33000</td>\n      <td>0.20000</td>\n      <td>Chris Wood_Burnley_2020 - 2021</td>\n    </tr>\n    <tr>\n      <th>390</th>\n      <td>0.10000</td>\n      <td>-0.10000</td>\n      <td>1.75000</td>\n      <td>4.25000</td>\n      <td>0.03739</td>\n      <td>0.25000</td>\n      <td>4.25000</td>\n      <td>12.80000</td>\n      <td>0.75000</td>\n      <td>1.75000</td>\n      <td>0.06000</td>\n      <td>Andriy Yarmolenko_West Ham_2020 - 2021</td>\n    </tr>\n    <tr>\n      <th>391</th>\n      <td>0.24000</td>\n      <td>0.16000</td>\n      <td>2.32000</td>\n      <td>5.47000</td>\n      <td>0.05333</td>\n      <td>0.11000</td>\n      <td>3.58000</td>\n      <td>17.80000</td>\n      <td>0.42000</td>\n      <td>1.74000</td>\n      <td>0.10000</td>\n      <td>Wilfried Zaha_Crystal Palace_2020 - 2021</td>\n    </tr>\n    <tr>\n      <th>392</th>\n      <td>0.15000</td>\n      <td>-0.03000</td>\n      <td>2.76000</td>\n      <td>2.76000</td>\n      <td>0.03893</td>\n      <td>0.28000</td>\n      <td>3.22000</td>\n      <td>14.30000</td>\n      <td>0.23000</td>\n      <td>1.03000</td>\n      <td>0.05000</td>\n      <td>Hakim Ziyech_Chelsea_2020 - 2021</td>\n    </tr>\n  </tbody>\n</table>\n<p>393 rows × 12 columns</p>\n</div>"
     },
     "metadata": {},
     "execution_count": 6
    }
   ],
   "source": [
    "df = pd.DataFrame()\n",
    "for i in range(len(data.columns)):\n",
    "    df[f\"Attribute_{i}\"] = data.iloc[:,i]\n",
    "    \n",
    "df['Index'] = ['Point'] * len(df)\n",
    "df['ID'] = range(1, 1+len(df))\n",
    "df[\"Index\"] = df[\"Index\"] + ' ' + df[\"ID\"].astype(str)\n",
    "df = df.drop(['ID'], axis=1)\n",
    "\n",
    "df[\"Index\"] = df[\"Attribute_0\"]\n",
    "df = df.drop(['Attribute_0'], axis=1)\n",
    "df"
   ]
  },
  {
   "cell_type": "code",
   "execution_count": 7,
   "metadata": {},
   "outputs": [
    {
     "output_type": "execute_result",
     "data": {
      "text/plain": [
       "     Attribute_1  Attribute_2  Attribute_3  Attribute_4  Attribute_5  \\\n",
       "0        0.33000     -0.07000      2.24000      3.75000      0.08029   \n",
       "1        0.21000     -0.21000      1.18000      4.12000      0.03587   \n",
       "2        0.62000      0.20000      4.22000      8.17000      0.09883   \n",
       "3        0.16000      0.04000      2.47000      2.60000      0.04891   \n",
       "4        0.08000      0.05000      1.08000      1.76000      0.03025   \n",
       "..           ...          ...          ...          ...          ...   \n",
       "388      0.32000      0.02000      1.79000      4.83000      0.06393   \n",
       "389      0.36000     -0.12000      1.77000      3.68000      0.05842   \n",
       "390      0.10000     -0.10000      1.75000      4.25000      0.03739   \n",
       "391      0.24000      0.16000      2.32000      5.47000      0.05333   \n",
       "392      0.15000     -0.03000      2.76000      2.76000      0.03893   \n",
       "\n",
       "     Attribute_6  Attribute_7  Attribute_8  Attribute_9  Attribute_10  \\\n",
       "0        0.04000      3.02000      9.27000      1.56000       1.35000   \n",
       "1        0.01000      4.85000     16.50000      2.50000       0.59000   \n",
       "2        0.27000      3.21000     12.00000      0.28000       1.42000   \n",
       "3        0.04000      4.07000     13.70000      2.07000       2.80000   \n",
       "4        0.03000      6.55000     26.80000      0.34000       0.81000   \n",
       "..           ...          ...          ...          ...           ...   \n",
       "388      0.10000      4.03000     13.70000      1.69000       1.24000   \n",
       "389      0.05000      2.68000     10.20000      5.31000       0.33000   \n",
       "390      0.25000      4.25000     12.80000      0.75000       1.75000   \n",
       "391      0.11000      3.58000     17.80000      0.42000       1.74000   \n",
       "392      0.28000      3.22000     14.30000      0.23000       1.03000   \n",
       "\n",
       "     Attribute_11  \n",
       "0         0.15000  \n",
       "1         0.18000  \n",
       "2         0.15000  \n",
       "3         0.06000  \n",
       "4         0.07000  \n",
       "..            ...  \n",
       "388       0.18000  \n",
       "389       0.20000  \n",
       "390       0.06000  \n",
       "391       0.10000  \n",
       "392       0.05000  \n",
       "\n",
       "[393 rows x 11 columns]"
      ],
      "text/html": "<div>\n<style scoped>\n    .dataframe tbody tr th:only-of-type {\n        vertical-align: middle;\n    }\n\n    .dataframe tbody tr th {\n        vertical-align: top;\n    }\n\n    .dataframe thead th {\n        text-align: right;\n    }\n</style>\n<table border=\"1\" class=\"dataframe\">\n  <thead>\n    <tr style=\"text-align: right;\">\n      <th></th>\n      <th>Attribute_1</th>\n      <th>Attribute_2</th>\n      <th>Attribute_3</th>\n      <th>Attribute_4</th>\n      <th>Attribute_5</th>\n      <th>Attribute_6</th>\n      <th>Attribute_7</th>\n      <th>Attribute_8</th>\n      <th>Attribute_9</th>\n      <th>Attribute_10</th>\n      <th>Attribute_11</th>\n    </tr>\n  </thead>\n  <tbody>\n    <tr>\n      <th>0</th>\n      <td>0.33000</td>\n      <td>-0.07000</td>\n      <td>2.24000</td>\n      <td>3.75000</td>\n      <td>0.08029</td>\n      <td>0.04000</td>\n      <td>3.02000</td>\n      <td>9.27000</td>\n      <td>1.56000</td>\n      <td>1.35000</td>\n      <td>0.15000</td>\n    </tr>\n    <tr>\n      <th>1</th>\n      <td>0.21000</td>\n      <td>-0.21000</td>\n      <td>1.18000</td>\n      <td>4.12000</td>\n      <td>0.03587</td>\n      <td>0.01000</td>\n      <td>4.85000</td>\n      <td>16.50000</td>\n      <td>2.50000</td>\n      <td>0.59000</td>\n      <td>0.18000</td>\n    </tr>\n    <tr>\n      <th>2</th>\n      <td>0.62000</td>\n      <td>0.20000</td>\n      <td>4.22000</td>\n      <td>8.17000</td>\n      <td>0.09883</td>\n      <td>0.27000</td>\n      <td>3.21000</td>\n      <td>12.00000</td>\n      <td>0.28000</td>\n      <td>1.42000</td>\n      <td>0.15000</td>\n    </tr>\n    <tr>\n      <th>3</th>\n      <td>0.16000</td>\n      <td>0.04000</td>\n      <td>2.47000</td>\n      <td>2.60000</td>\n      <td>0.04891</td>\n      <td>0.04000</td>\n      <td>4.07000</td>\n      <td>13.70000</td>\n      <td>2.07000</td>\n      <td>2.80000</td>\n      <td>0.06000</td>\n    </tr>\n    <tr>\n      <th>4</th>\n      <td>0.08000</td>\n      <td>0.05000</td>\n      <td>1.08000</td>\n      <td>1.76000</td>\n      <td>0.03025</td>\n      <td>0.03000</td>\n      <td>6.55000</td>\n      <td>26.80000</td>\n      <td>0.34000</td>\n      <td>0.81000</td>\n      <td>0.07000</td>\n    </tr>\n    <tr>\n      <th>...</th>\n      <td>...</td>\n      <td>...</td>\n      <td>...</td>\n      <td>...</td>\n      <td>...</td>\n      <td>...</td>\n      <td>...</td>\n      <td>...</td>\n      <td>...</td>\n      <td>...</td>\n      <td>...</td>\n    </tr>\n    <tr>\n      <th>388</th>\n      <td>0.32000</td>\n      <td>0.02000</td>\n      <td>1.79000</td>\n      <td>4.83000</td>\n      <td>0.06393</td>\n      <td>0.10000</td>\n      <td>4.03000</td>\n      <td>13.70000</td>\n      <td>1.69000</td>\n      <td>1.24000</td>\n      <td>0.18000</td>\n    </tr>\n    <tr>\n      <th>389</th>\n      <td>0.36000</td>\n      <td>-0.12000</td>\n      <td>1.77000</td>\n      <td>3.68000</td>\n      <td>0.05842</td>\n      <td>0.05000</td>\n      <td>2.68000</td>\n      <td>10.20000</td>\n      <td>5.31000</td>\n      <td>0.33000</td>\n      <td>0.20000</td>\n    </tr>\n    <tr>\n      <th>390</th>\n      <td>0.10000</td>\n      <td>-0.10000</td>\n      <td>1.75000</td>\n      <td>4.25000</td>\n      <td>0.03739</td>\n      <td>0.25000</td>\n      <td>4.25000</td>\n      <td>12.80000</td>\n      <td>0.75000</td>\n      <td>1.75000</td>\n      <td>0.06000</td>\n    </tr>\n    <tr>\n      <th>391</th>\n      <td>0.24000</td>\n      <td>0.16000</td>\n      <td>2.32000</td>\n      <td>5.47000</td>\n      <td>0.05333</td>\n      <td>0.11000</td>\n      <td>3.58000</td>\n      <td>17.80000</td>\n      <td>0.42000</td>\n      <td>1.74000</td>\n      <td>0.10000</td>\n    </tr>\n    <tr>\n      <th>392</th>\n      <td>0.15000</td>\n      <td>-0.03000</td>\n      <td>2.76000</td>\n      <td>2.76000</td>\n      <td>0.03893</td>\n      <td>0.28000</td>\n      <td>3.22000</td>\n      <td>14.30000</td>\n      <td>0.23000</td>\n      <td>1.03000</td>\n      <td>0.05000</td>\n    </tr>\n  </tbody>\n</table>\n<p>393 rows × 11 columns</p>\n</div>"
     },
     "metadata": {},
     "execution_count": 7
    }
   ],
   "source": [
    "dft = df\n",
    "df1 = dft.drop(['Index'], axis = 1)\n",
    "df1.fillna(0, inplace=True)\n",
    "df1"
   ]
  },
  {
   "cell_type": "code",
   "execution_count": 8,
   "metadata": {},
   "outputs": [
    {
     "output_type": "stream",
     "name": "stdout",
     "text": [
      "Attribute_0False\nAttribute_1False\nAttribute_2False\nAttribute_3False\nAttribute_4False\nAttribute_5False\nAttribute_6False\nAttribute_7False\nAttribute_8False\nAttribute_9False\nAttribute_10False\n"
     ]
    }
   ],
   "source": [
    "for i in range(len(df1.columns)):\n",
    "    print('Attribute_' + str(i) + str(df1.iloc[:,i].isnull().values.any()))"
   ]
  },
  {
   "cell_type": "code",
   "execution_count": 9,
   "metadata": {},
   "outputs": [],
   "source": [
    "scaler = StandardScaler()\n",
    "scaler.fit(df1)\n",
    "scaled_features = scaler.transform(df1)"
   ]
  },
  {
   "cell_type": "code",
   "execution_count": 10,
   "metadata": {},
   "outputs": [
    {
     "output_type": "display_data",
     "data": {
      "text/plain": "Canvas(toolbar=Toolbar(toolitems=[('Home', 'Reset original view', 'home', 'home'), ('Back', 'Back to previous …",
      "application/vnd.jupyter.widget-view+json": {
       "version_major": 2,
       "version_minor": 0,
       "model_id": "bb976c3accd14a5e9b83d36d4a782bed"
      }
     },
     "metadata": {}
    },
    {
     "output_type": "execute_result",
     "data": {
      "text/plain": [
       "<mpl_toolkits.mplot3d.art3d.Path3DCollection at 0x20d02f33ee0>"
      ]
     },
     "metadata": {},
     "execution_count": 10
    }
   ],
   "source": [
    "pca = PCA(n_components=3)\n",
    "pca.fit(scaled_features)\n",
    "pca_data = pca.transform(scaled_features)\n",
    "pca_df = pd.DataFrame(data = pca_data, columns = ['PC1', 'PC2', 'PC3'])\n",
    "\n",
    "sns.set(style = \"darkgrid\")\n",
    "\n",
    "fig = plt.figure()\n",
    "ax = fig.add_subplot(111, projection = '3d')\n",
    "\n",
    "x = pca_data[:, 0]\n",
    "y = pca_data[:, 1]\n",
    "z  =pca_data[:, 2]\n",
    "\n",
    "plt.title('PCA')\n",
    "ax.set_xlabel(\"Principal Component 1\")\n",
    "ax.set_ylabel(\"Principal Component 2\")\n",
    "ax.set_zlabel(\"Principal Component 3\")\n",
    "\n",
    "ax.scatter(x,y,z)"
   ]
  },
  {
   "cell_type": "code",
   "execution_count": 11,
   "metadata": {},
   "outputs": [
    {
     "output_type": "display_data",
     "data": {
      "text/plain": "Canvas(toolbar=Toolbar(toolitems=[('Home', 'Reset original view', 'home', 'home'), ('Back', 'Back to previous …",
      "application/vnd.jupyter.widget-view+json": {
       "version_major": 2,
       "version_minor": 0,
       "model_id": "113d7261467b4f53954ae6e072903f59"
      }
     },
     "metadata": {}
    }
   ],
   "source": [
    "fig, ax = plt.subplots()\n",
    "\n",
    "PC_values = np.arange(pca.n_components_) + 1\n",
    "plt.plot(PC_values, pca.explained_variance_ratio_, 'ro-', linewidth=2)\n",
    "plt.title('Scree Plot')\n",
    "plt.xlabel('Principal Component')\n",
    "plt.xticks(np.arange(1,4,1))\n",
    "plt.ylabel('Proportion of Variance Explained')\n",
    "plt.show()"
   ]
  },
  {
   "cell_type": "code",
   "execution_count": 12,
   "metadata": {},
   "outputs": [
    {
     "output_type": "stream",
     "name": "stdout",
     "text": [
      "Proportion of Variance Explained :  [0.31043544 0.18586839 0.15882486]\nCumulative Prop. Variance Explained:  [0.31043544 0.49630383 0.65512868]\n"
     ]
    }
   ],
   "source": [
    "print (\"Proportion of Variance Explained : \", pca.explained_variance_ratio_)  \n",
    "out_sum = np.cumsum(pca.explained_variance_ratio_)  \n",
    "print (\"Cumulative Prop. Variance Explained: \", out_sum)"
   ]
  },
  {
   "cell_type": "code",
   "execution_count": 13,
   "metadata": {},
   "outputs": [
    {
     "output_type": "stream",
     "name": "stdout",
     "text": [
      "[3.42350101 2.04976798 1.75153024]\n"
     ]
    }
   ],
   "source": [
    "print(pca.explained_variance_) "
   ]
  },
  {
   "cell_type": "code",
   "execution_count": 14,
   "metadata": {},
   "outputs": [
    {
     "output_type": "execute_result",
     "data": {
      "text/plain": [
       "              PC1 Loading Score\n",
       "Attribute_1             0.50258\n",
       "Attribute_5             0.45590\n",
       "Attribute_3             0.44810\n",
       "Attribute_4             0.37724\n",
       "Attribute_11            0.30900\n",
       "Attribute_9             0.11726\n",
       "Attribute_6             0.02618\n",
       "Attribute_2             0.00830\n",
       "Attribute_10           -0.11861\n",
       "Attribute_7            -0.15607\n",
       "Attribute_8            -0.21920"
      ],
      "text/html": "<div>\n<style scoped>\n    .dataframe tbody tr th:only-of-type {\n        vertical-align: middle;\n    }\n\n    .dataframe tbody tr th {\n        vertical-align: top;\n    }\n\n    .dataframe thead th {\n        text-align: right;\n    }\n</style>\n<table border=\"1\" class=\"dataframe\">\n  <thead>\n    <tr style=\"text-align: right;\">\n      <th></th>\n      <th>PC1 Loading Score</th>\n    </tr>\n  </thead>\n  <tbody>\n    <tr>\n      <th>Attribute_1</th>\n      <td>0.50258</td>\n    </tr>\n    <tr>\n      <th>Attribute_5</th>\n      <td>0.45590</td>\n    </tr>\n    <tr>\n      <th>Attribute_3</th>\n      <td>0.44810</td>\n    </tr>\n    <tr>\n      <th>Attribute_4</th>\n      <td>0.37724</td>\n    </tr>\n    <tr>\n      <th>Attribute_11</th>\n      <td>0.30900</td>\n    </tr>\n    <tr>\n      <th>Attribute_9</th>\n      <td>0.11726</td>\n    </tr>\n    <tr>\n      <th>Attribute_6</th>\n      <td>0.02618</td>\n    </tr>\n    <tr>\n      <th>Attribute_2</th>\n      <td>0.00830</td>\n    </tr>\n    <tr>\n      <th>Attribute_10</th>\n      <td>-0.11861</td>\n    </tr>\n    <tr>\n      <th>Attribute_7</th>\n      <td>-0.15607</td>\n    </tr>\n    <tr>\n      <th>Attribute_8</th>\n      <td>-0.21920</td>\n    </tr>\n  </tbody>\n</table>\n</div>"
     },
     "metadata": {},
     "execution_count": 14
    }
   ],
   "source": [
    "pc1_loading_scores = pd.DataFrame(data=pca.components_[0], index=df1.columns, columns=['PC1 Loading Score'])\n",
    "pc1_loading_scores.sort_values(by='PC1 Loading Score', ascending=False, inplace=True)\n",
    "pc1_loading_scores"
   ]
  },
  {
   "cell_type": "code",
   "execution_count": 15,
   "metadata": {},
   "outputs": [
    {
     "output_type": "execute_result",
     "data": {
      "text/plain": [
       "              PC2 Loading Score\n",
       "Attribute_10            0.53090\n",
       "Attribute_6             0.52820\n",
       "Attribute_4             0.33338\n",
       "Attribute_2             0.25908\n",
       "Attribute_3             0.16150\n",
       "Attribute_7             0.10788\n",
       "Attribute_1             0.03962\n",
       "Attribute_8             0.01155\n",
       "Attribute_11           -0.12648\n",
       "Attribute_5            -0.13576\n",
       "Attribute_9            -0.43248"
      ],
      "text/html": "<div>\n<style scoped>\n    .dataframe tbody tr th:only-of-type {\n        vertical-align: middle;\n    }\n\n    .dataframe tbody tr th {\n        vertical-align: top;\n    }\n\n    .dataframe thead th {\n        text-align: right;\n    }\n</style>\n<table border=\"1\" class=\"dataframe\">\n  <thead>\n    <tr style=\"text-align: right;\">\n      <th></th>\n      <th>PC2 Loading Score</th>\n    </tr>\n  </thead>\n  <tbody>\n    <tr>\n      <th>Attribute_10</th>\n      <td>0.53090</td>\n    </tr>\n    <tr>\n      <th>Attribute_6</th>\n      <td>0.52820</td>\n    </tr>\n    <tr>\n      <th>Attribute_4</th>\n      <td>0.33338</td>\n    </tr>\n    <tr>\n      <th>Attribute_2</th>\n      <td>0.25908</td>\n    </tr>\n    <tr>\n      <th>Attribute_3</th>\n      <td>0.16150</td>\n    </tr>\n    <tr>\n      <th>Attribute_7</th>\n      <td>0.10788</td>\n    </tr>\n    <tr>\n      <th>Attribute_1</th>\n      <td>0.03962</td>\n    </tr>\n    <tr>\n      <th>Attribute_8</th>\n      <td>0.01155</td>\n    </tr>\n    <tr>\n      <th>Attribute_11</th>\n      <td>-0.12648</td>\n    </tr>\n    <tr>\n      <th>Attribute_5</th>\n      <td>-0.13576</td>\n    </tr>\n    <tr>\n      <th>Attribute_9</th>\n      <td>-0.43248</td>\n    </tr>\n  </tbody>\n</table>\n</div>"
     },
     "metadata": {},
     "execution_count": 15
    }
   ],
   "source": [
    "pc2_loading_scores = pd.DataFrame(data=pca.components_[1], index=df1.columns, columns=['PC2 Loading Score'])\n",
    "pc2_loading_scores.sort_values(by='PC2 Loading Score', ascending=False, inplace=True)\n",
    "pc2_loading_scores"
   ]
  },
  {
   "cell_type": "code",
   "execution_count": 16,
   "metadata": {},
   "outputs": [
    {
     "output_type": "execute_result",
     "data": {
      "text/plain": [
       "              PC3 Loading Score\n",
       "Attribute_7             0.67969\n",
       "Attribute_8             0.65049\n",
       "Attribute_11            0.16669\n",
       "Attribute_1             0.16622\n",
       "Attribute_5             0.10434\n",
       "Attribute_4             0.10211\n",
       "Attribute_3             0.07311\n",
       "Attribute_10            0.01214\n",
       "Attribute_9             0.00599\n",
       "Attribute_2            -0.12246\n",
       "Attribute_6            -0.13281"
      ],
      "text/html": "<div>\n<style scoped>\n    .dataframe tbody tr th:only-of-type {\n        vertical-align: middle;\n    }\n\n    .dataframe tbody tr th {\n        vertical-align: top;\n    }\n\n    .dataframe thead th {\n        text-align: right;\n    }\n</style>\n<table border=\"1\" class=\"dataframe\">\n  <thead>\n    <tr style=\"text-align: right;\">\n      <th></th>\n      <th>PC3 Loading Score</th>\n    </tr>\n  </thead>\n  <tbody>\n    <tr>\n      <th>Attribute_7</th>\n      <td>0.67969</td>\n    </tr>\n    <tr>\n      <th>Attribute_8</th>\n      <td>0.65049</td>\n    </tr>\n    <tr>\n      <th>Attribute_11</th>\n      <td>0.16669</td>\n    </tr>\n    <tr>\n      <th>Attribute_1</th>\n      <td>0.16622</td>\n    </tr>\n    <tr>\n      <th>Attribute_5</th>\n      <td>0.10434</td>\n    </tr>\n    <tr>\n      <th>Attribute_4</th>\n      <td>0.10211</td>\n    </tr>\n    <tr>\n      <th>Attribute_3</th>\n      <td>0.07311</td>\n    </tr>\n    <tr>\n      <th>Attribute_10</th>\n      <td>0.01214</td>\n    </tr>\n    <tr>\n      <th>Attribute_9</th>\n      <td>0.00599</td>\n    </tr>\n    <tr>\n      <th>Attribute_2</th>\n      <td>-0.12246</td>\n    </tr>\n    <tr>\n      <th>Attribute_6</th>\n      <td>-0.13281</td>\n    </tr>\n  </tbody>\n</table>\n</div>"
     },
     "metadata": {},
     "execution_count": 16
    }
   ],
   "source": [
    "pc3_loading_scores = pd.DataFrame(data=pca.components_[2], index=df1.columns, columns=['PC3 Loading Score'])\n",
    "pc3_loading_scores.sort_values(by='PC3 Loading Score', ascending=False, inplace=True)\n",
    "pc3_loading_scores"
   ]
  },
  {
   "cell_type": "code",
   "execution_count": 17,
   "metadata": {},
   "outputs": [],
   "source": [
    "# KMeans clustering \n",
    "\n",
    "pca_df = pd.DataFrame(data=pca_data, index=dft['Index'], columns=['PC 1', 'PC 2', 'PC 3'])\n",
    "pca_df.reset_index(inplace=True) # reset the index\n",
    "pca_df.head(3)\n",
    "\n",
    "scaler = StandardScaler()\n",
    "scaler.fit(pca_df.drop('Index', axis=1)) \n",
    "scaled_pca_features = scaler.transform(pca_df.drop('Index', axis=1))\n",
    "scaled_pca_data = pd.DataFrame(data=scaled_pca_features, columns=pca_df.drop('Index', axis=1).columns)"
   ]
  },
  {
   "cell_type": "code",
   "execution_count": 18,
   "metadata": {},
   "outputs": [
    {
     "output_type": "display_data",
     "data": {
      "text/plain": "Canvas(toolbar=Toolbar(toolitems=[('Home', 'Reset original view', 'home', 'home'), ('Back', 'Back to previous …",
      "application/vnd.jupyter.widget-view+json": {
       "version_major": 2,
       "version_minor": 0,
       "model_id": "c2afb62e3cbb49a4b88a6042fe0e4e31"
      }
     },
     "metadata": {}
    }
   ],
   "source": [
    "#Elbow method\n",
    "\n",
    "scaler = StandardScaler()\n",
    "scaler.fit(pca_df.drop('Index', axis=1))\n",
    "scaled_pca_features = scaler.transform(pca_df.drop('Index', axis=1))\n",
    "scaled_pca_data = pd.DataFrame(data=scaled_pca_features, columns=pca_df.drop('Index', axis=1).columns)\n",
    "\n",
    "inertia = []\n",
    "for k in range(1, 11):\n",
    "    kmeans = KMeans(n_clusters=k)\n",
    "    kmeans.fit(X=scaled_pca_data)\n",
    "    inertia.append(kmeans.inertia_)\n",
    "elbow_df = pd.DataFrame({'Number of clusters':range(1, 11), 'Inertia':inertia})\n",
    "\n",
    "plt.figure(figsize=(8,6))\n",
    "plt.plot(elbow_df['Number of clusters'], elbow_df['Inertia'], marker='o')\n",
    "plt.xlabel('Number of clusters')\n",
    "plt.xticks(np.arange(1, len(inertia)+1, 1))\n",
    "plt.ylabel('Inertia')\n",
    "plt.show()"
   ]
  },
  {
   "cell_type": "code",
   "execution_count": 19,
   "metadata": {},
   "outputs": [
    {
     "output_type": "stream",
     "name": "stdout",
     "text": [
      "['Index', 'PC 1', 'PC 2', 'PC 3', 'Cluster Label']\n"
     ]
    }
   ],
   "source": [
    "# KMeans cluster creation\n",
    "\n",
    "kmeans = KMeans(n_clusters=6)\n",
    "kmeans.fit(X=scaled_pca_data)\n",
    "pca_df['Cluster Label'] = kmeans.labels_ # add cluster labels for players as a new column to the pca_df dataframe\n",
    "print(pca_df.columns.tolist())"
   ]
  },
  {
   "cell_type": "code",
   "execution_count": 20,
   "metadata": {},
   "outputs": [
    {
     "output_type": "display_data",
     "data": {
      "text/plain": "Canvas(toolbar=Toolbar(toolitems=[('Home', 'Reset original view', 'home', 'home'), ('Back', 'Back to previous …",
      "application/vnd.jupyter.widget-view+json": {
       "version_major": 2,
       "version_minor": 0,
       "model_id": "55cba902ee31459f9f1a04726cd2b183"
      }
     },
     "metadata": {}
    }
   ],
   "source": [
    "# Analysis and visualisation\n",
    "\n",
    "fig = plt.figure()\n",
    "ax = fig.add_subplot(111, projection = '3d')\n",
    "\n",
    "#x = pca_df['PC 1']\n",
    "#y = pca_df['PC 2']\n",
    "#z = pca_df['PC 3']\n",
    "\n",
    "groups = pca_df.groupby(\"Cluster Label\")\n",
    "\n",
    "plt.title('PCA with Clustering')\n",
    "ax.set_xlabel(\"Principal Component 1\")\n",
    "ax.set_ylabel(\"Principal Component 2\")\n",
    "ax.set_zlabel(\"Principal Component 3\")\n",
    "\n",
    "for name, group in groups:\n",
    "    ax.scatter(group['PC 1'],group['PC 2'],group['PC 3'])"
   ]
  },
  {
   "cell_type": "code",
   "execution_count": 21,
   "metadata": {},
   "outputs": [],
   "source": [
    "pca_cluster_0 = pca_df[pca_df['Cluster Label']==0]['Index']\n",
    "pca_cluster_1 = pca_df[pca_df['Cluster Label']==1]['Index']\n",
    "pca_cluster_2 = pca_df[pca_df['Cluster Label']==2]['Index']\n",
    "pca_cluster_3 = pca_df[pca_df['Cluster Label']==3]['Index']\n",
    "pca_cluster_4 = pca_df[pca_df['Cluster Label']==4]['Index']\n",
    "pca_cluster_5 = pca_df[pca_df['Cluster Label']==5]['Index']"
   ]
  },
  {
   "cell_type": "code",
   "execution_count": 22,
   "metadata": {},
   "outputs": [
    {
     "output_type": "stream",
     "name": "stdout",
     "text": [
      "\nCluster 0 Points:\n\n4               Scott Arfield_Burnley_2017 - 2018\n8             André Ayew_Swansea City_2017 - 2018\n10           Jordan Ayew_Swansea City_2017 - 2018\n29          Roberto Firmino_Liverpool_2017 - 2018\n69             Sandro Ramírez_Everton_2017 - 2018\n73          Hal Robson-Kanu_West Brom_2017 - 2018\n102      Miguel Almirón_Newcastle Utd_2018 - 2019\n104            Florin Andone_Brighton_2018 - 2019\n109        Jordan Ayew_Crystal Palace_2018 - 2019\n112             Ashley Barnes_Burnley_2018 - 2019\n125           Grady Diangana_West Ham_2018 - 2019\n126         Roberto Firmino_Liverpool_2018 - 2019\n140            Danny Ings_Southampton_2018 - 2019\n148           Aboubakar Kamara_Fulham_2018 - 2019\n155      Jesse Lingard_Manchester Utd_2018 - 2019\n174             Glenn Murray_Brighton_2018 - 2019\n177     Shinji Okazaki_Leicester City_2018 - 2019\n182         Ayoze Pérez_Newcastle Utd_2018 - 2019\n183              Lucas Pérez_West Ham_2018 - 2019\n185        Nathan Redmond_Southampton_2018 - 2019\n186           Bobby Reid_Cardiff City_2018 - 2019\n187               Richarlison_Everton_2018 - 2019\n193                  Ken Sema_Watford_2018 - 2019\n195       Dominic Solanke_Bournemouth_2018 - 2019\n199                Cenk Tosun_Everton_2018 - 2019\n219        Jordan Ayew_Crystal Palace_2019 - 2020\n229            Patrick Cutrone_Wolves_2019 - 2020\n248            Danny Ings_Southampton_2019 - 2020\n259       Alexandre Lacazette_Arsenal_2019 - 2020\n264                Martinelli_Arsenal_2019 - 2020\n265              Neal Maupay_Brighton_2019 - 2020\n266     Oliver McBurnie_Sheffield Utd_2019 - 2020\n267    David McGoldrick_Sheffield Utd_2019 - 2020\n274             Eddie Nketiah_Arsenal_2019 - 2020\n275       Michael Obafemi_Southampton_2019 - 2020\n276            Divock Origi_Liverpool_2019 - 2020\n277                     Pedro_Chelsea_2019 - 2020\n285     Callum Robinson_Sheffield Utd_2019 - 2020\n286             Jay Rodriguez_Burnley_2019 - 2020\n293       Dominic Solanke_Bournemouth_2019 - 2020\n297             Trézéguet_Aston Villa_2019 - 2020\n303         Callum Wilson_Bournemouth_2019 - 2020\n309        Jordan Ayew_Crystal Palace_2020 - 2021\n320        Oliver Burke_Sheffield Utd_2020 - 2021\n377          Nathan Tella_Southampton_2020 - 2021\nName: Index, dtype: object\n\n\n\nCluster 1 Points:\n\n2         Sergio Agüero_Manchester City_2017 - 2018\n5             Marko Arnautović_West Ham_2017 - 2018\n32               Olivier Giroud_Arsenal_2017 - 2018\n38              Son Heung-min_Tottenham_2017 - 2018\n39     Kelechi Iheanacho_Leicester City_2017 - 2018\n                           ...                     \n346                Harry Kane_Tottenham_2020 - 2021\n353                Sadio Mané_Liverpool_2020 - 2021\n354      Anthony Martial_Manchester Utd_2020 - 2021\n373             Mohamed Salah_Liverpool_2020 - 2021\n376     Raheem Sterling_Manchester City_2020 - 2021\nName: Index, Length: 65, dtype: object\n\n\n\nCluster 2 Points:\n\n0            Tammy Abraham_Swansea City_2017 - 2018\n1               Benik Afobe_Bournemouth_2017 - 2018\n3              Michail Antonio_West Ham_2017 - 2018\n9                   André Ayew_West Ham_2017 - 2018\n13     Christian Benteke_Crystal Palace_2017 - 2018\n                           ...                     \n374           Billy Sharp_Sheffield Utd_2020 - 2021\n378       Ferrán Torres_Manchester City_2020 - 2021\n379         Bertrand Traoré_Aston Villa_2020 - 2021\n387                     Willian_Arsenal_2020 - 2021\n389                  Chris Wood_Burnley_2020 - 2021\nName: Index, Length: 75, dtype: object\n"
     ]
    }
   ],
   "source": [
    "'''print('\\nCluster 0 Points:\\n')\n",
    "print(pca_cluster_0)\n",
    "print('\\n\\n')\n",
    "print('Cluster 1 Points:\\n')\n",
    "print(pca_cluster_1)\n",
    "print('\\n\\n')\n",
    "print('Cluster 2 Points:\\n')\n",
    "print(pca_cluster_2)'''"
   ]
  },
  {
   "cell_type": "code",
   "execution_count": 23,
   "metadata": {},
   "outputs": [],
   "source": [
    "final_data = pd.merge(left=pca_df[['Index','PC 1','PC 2', 'PC 3','Cluster Label']],\n",
    "                      right=df,\n",
    "                      how='inner', on='Index')"
   ]
  },
  {
   "cell_type": "code",
   "execution_count": 24,
   "metadata": {},
   "outputs": [
    {
     "output_type": "execute_result",
     "data": {
      "text/plain": [
       "                                          Index     PC 1     PC 2     PC 3  \\\n",
       "0              Harry Kane_Tottenham_2017 - 2018  6.03994  0.28521 -0.58402   \n",
       "1     Sergio Agüero_Manchester City_2019 - 2020  5.69913  1.77893  0.24030   \n",
       "2     Gabriel Jesus_Manchester City_2019 - 2020  5.11799  1.44120  2.26526   \n",
       "3            Olivier Giroud_Arsenal_2017 - 2018  4.71239  1.26707  1.60738   \n",
       "4     Sergio Agüero_Manchester City_2018 - 2019  4.69917  1.49800  0.96974   \n",
       "..                                          ...      ...      ...      ...   \n",
       "388           Scott Arfield_Burnley_2017 - 2018 -3.73965 -1.18075  1.39283   \n",
       "389  Marc Albrighton_Leicester City_2018 - 2019 -3.84046 -0.03439 -0.12994   \n",
       "390        Emi Buendía_Norwich City_2019 - 2020 -4.31154  2.40231  1.83199   \n",
       "391         Lukas Rupp_Norwich City_2019 - 2020 -4.33927 -0.72559  0.82395   \n",
       "392    Christian Atsu_Newcastle Utd_2019 - 2020 -4.73797  0.17361  0.91750   \n",
       "\n",
       "     Cluster Label  Attribute_1  Attribute_2  Attribute_3  Attribute_4  \\\n",
       "0                1      0.70000      0.11000      5.29000      6.81000   \n",
       "1                1      0.73000      0.12000      4.53000      9.57000   \n",
       "2                1      0.78000     -0.20000      4.51000      9.03000   \n",
       "3                1      0.70000      0.23000      4.42000      8.60000   \n",
       "4                1      0.70000      0.01000      4.32000      8.83000   \n",
       "..             ...          ...          ...          ...          ...   \n",
       "388              0      0.08000      0.05000      1.08000      1.76000   \n",
       "389              4      0.06000      0.05000      1.05000      1.49000   \n",
       "390              4      0.08000     -0.04000      1.46000      2.08000   \n",
       "391              4      0.04000     -0.04000      0.52000      1.95000   \n",
       "392              4      0.02000     -0.02000      0.60000      2.41000   \n",
       "\n",
       "     Attribute_5  Attribute_6  Attribute_7  Attribute_8  Attribute_9  \\\n",
       "0        0.15605      0.08000      2.92000      9.56000      0.99000   \n",
       "1        0.12761      0.15000      3.48000     13.80000      0.12000   \n",
       "2        0.11136      0.17000      5.62000     18.50000      1.55000   \n",
       "3        0.10449      0.21000      5.58000     19.30000      2.33000   \n",
       "4        0.10335      0.20000      4.51000     16.90000      0.40000   \n",
       "..           ...          ...          ...          ...          ...   \n",
       "388      0.03025      0.03000      6.55000     26.80000      0.34000   \n",
       "389      0.01916      0.17000      5.58000     21.70000      0.50000   \n",
       "390      0.02017      0.26000      7.55000     28.90000      0.84000   \n",
       "391      0.01171      0.10000      6.23000     24.90000      0.52000   \n",
       "392      0.01500      0.11000      5.66000     29.30000      0.84000   \n",
       "\n",
       "     Attribute_10  Attribute_11  \n",
       "0         1.29000       0.13000  \n",
       "1         1.68000       0.16000  \n",
       "2         2.26000       0.18000  \n",
       "3         0.47000       0.16000  \n",
       "4         1.06000       0.16000  \n",
       "..            ...           ...  \n",
       "388       0.81000       0.07000  \n",
       "389       1.22000       0.06000  \n",
       "390       3.87000       0.05000  \n",
       "391       1.17000       0.08000  \n",
       "392       2.29000       0.04000  \n",
       "\n",
       "[393 rows x 16 columns]"
      ],
      "text/html": "<div>\n<style scoped>\n    .dataframe tbody tr th:only-of-type {\n        vertical-align: middle;\n    }\n\n    .dataframe tbody tr th {\n        vertical-align: top;\n    }\n\n    .dataframe thead th {\n        text-align: right;\n    }\n</style>\n<table border=\"1\" class=\"dataframe\">\n  <thead>\n    <tr style=\"text-align: right;\">\n      <th></th>\n      <th>Index</th>\n      <th>PC 1</th>\n      <th>PC 2</th>\n      <th>PC 3</th>\n      <th>Cluster Label</th>\n      <th>Attribute_1</th>\n      <th>Attribute_2</th>\n      <th>Attribute_3</th>\n      <th>Attribute_4</th>\n      <th>Attribute_5</th>\n      <th>Attribute_6</th>\n      <th>Attribute_7</th>\n      <th>Attribute_8</th>\n      <th>Attribute_9</th>\n      <th>Attribute_10</th>\n      <th>Attribute_11</th>\n    </tr>\n  </thead>\n  <tbody>\n    <tr>\n      <th>0</th>\n      <td>Harry Kane_Tottenham_2017 - 2018</td>\n      <td>6.03994</td>\n      <td>0.28521</td>\n      <td>-0.58402</td>\n      <td>1</td>\n      <td>0.70000</td>\n      <td>0.11000</td>\n      <td>5.29000</td>\n      <td>6.81000</td>\n      <td>0.15605</td>\n      <td>0.08000</td>\n      <td>2.92000</td>\n      <td>9.56000</td>\n      <td>0.99000</td>\n      <td>1.29000</td>\n      <td>0.13000</td>\n    </tr>\n    <tr>\n      <th>1</th>\n      <td>Sergio Agüero_Manchester City_2019 - 2020</td>\n      <td>5.69913</td>\n      <td>1.77893</td>\n      <td>0.24030</td>\n      <td>1</td>\n      <td>0.73000</td>\n      <td>0.12000</td>\n      <td>4.53000</td>\n      <td>9.57000</td>\n      <td>0.12761</td>\n      <td>0.15000</td>\n      <td>3.48000</td>\n      <td>13.80000</td>\n      <td>0.12000</td>\n      <td>1.68000</td>\n      <td>0.16000</td>\n    </tr>\n    <tr>\n      <th>2</th>\n      <td>Gabriel Jesus_Manchester City_2019 - 2020</td>\n      <td>5.11799</td>\n      <td>1.44120</td>\n      <td>2.26526</td>\n      <td>1</td>\n      <td>0.78000</td>\n      <td>-0.20000</td>\n      <td>4.51000</td>\n      <td>9.03000</td>\n      <td>0.11136</td>\n      <td>0.17000</td>\n      <td>5.62000</td>\n      <td>18.50000</td>\n      <td>1.55000</td>\n      <td>2.26000</td>\n      <td>0.18000</td>\n    </tr>\n    <tr>\n      <th>3</th>\n      <td>Olivier Giroud_Arsenal_2017 - 2018</td>\n      <td>4.71239</td>\n      <td>1.26707</td>\n      <td>1.60738</td>\n      <td>1</td>\n      <td>0.70000</td>\n      <td>0.23000</td>\n      <td>4.42000</td>\n      <td>8.60000</td>\n      <td>0.10449</td>\n      <td>0.21000</td>\n      <td>5.58000</td>\n      <td>19.30000</td>\n      <td>2.33000</td>\n      <td>0.47000</td>\n      <td>0.16000</td>\n    </tr>\n    <tr>\n      <th>4</th>\n      <td>Sergio Agüero_Manchester City_2018 - 2019</td>\n      <td>4.69917</td>\n      <td>1.49800</td>\n      <td>0.96974</td>\n      <td>1</td>\n      <td>0.70000</td>\n      <td>0.01000</td>\n      <td>4.32000</td>\n      <td>8.83000</td>\n      <td>0.10335</td>\n      <td>0.20000</td>\n      <td>4.51000</td>\n      <td>16.90000</td>\n      <td>0.40000</td>\n      <td>1.06000</td>\n      <td>0.16000</td>\n    </tr>\n    <tr>\n      <th>...</th>\n      <td>...</td>\n      <td>...</td>\n      <td>...</td>\n      <td>...</td>\n      <td>...</td>\n      <td>...</td>\n      <td>...</td>\n      <td>...</td>\n      <td>...</td>\n      <td>...</td>\n      <td>...</td>\n      <td>...</td>\n      <td>...</td>\n      <td>...</td>\n      <td>...</td>\n      <td>...</td>\n    </tr>\n    <tr>\n      <th>388</th>\n      <td>Scott Arfield_Burnley_2017 - 2018</td>\n      <td>-3.73965</td>\n      <td>-1.18075</td>\n      <td>1.39283</td>\n      <td>0</td>\n      <td>0.08000</td>\n      <td>0.05000</td>\n      <td>1.08000</td>\n      <td>1.76000</td>\n      <td>0.03025</td>\n      <td>0.03000</td>\n      <td>6.55000</td>\n      <td>26.80000</td>\n      <td>0.34000</td>\n      <td>0.81000</td>\n      <td>0.07000</td>\n    </tr>\n    <tr>\n      <th>389</th>\n      <td>Marc Albrighton_Leicester City_2018 - 2019</td>\n      <td>-3.84046</td>\n      <td>-0.03439</td>\n      <td>-0.12994</td>\n      <td>4</td>\n      <td>0.06000</td>\n      <td>0.05000</td>\n      <td>1.05000</td>\n      <td>1.49000</td>\n      <td>0.01916</td>\n      <td>0.17000</td>\n      <td>5.58000</td>\n      <td>21.70000</td>\n      <td>0.50000</td>\n      <td>1.22000</td>\n      <td>0.06000</td>\n    </tr>\n    <tr>\n      <th>390</th>\n      <td>Emi Buendía_Norwich City_2019 - 2020</td>\n      <td>-4.31154</td>\n      <td>2.40231</td>\n      <td>1.83199</td>\n      <td>4</td>\n      <td>0.08000</td>\n      <td>-0.04000</td>\n      <td>1.46000</td>\n      <td>2.08000</td>\n      <td>0.02017</td>\n      <td>0.26000</td>\n      <td>7.55000</td>\n      <td>28.90000</td>\n      <td>0.84000</td>\n      <td>3.87000</td>\n      <td>0.05000</td>\n    </tr>\n    <tr>\n      <th>391</th>\n      <td>Lukas Rupp_Norwich City_2019 - 2020</td>\n      <td>-4.33927</td>\n      <td>-0.72559</td>\n      <td>0.82395</td>\n      <td>4</td>\n      <td>0.04000</td>\n      <td>-0.04000</td>\n      <td>0.52000</td>\n      <td>1.95000</td>\n      <td>0.01171</td>\n      <td>0.10000</td>\n      <td>6.23000</td>\n      <td>24.90000</td>\n      <td>0.52000</td>\n      <td>1.17000</td>\n      <td>0.08000</td>\n    </tr>\n    <tr>\n      <th>392</th>\n      <td>Christian Atsu_Newcastle Utd_2019 - 2020</td>\n      <td>-4.73797</td>\n      <td>0.17361</td>\n      <td>0.91750</td>\n      <td>4</td>\n      <td>0.02000</td>\n      <td>-0.02000</td>\n      <td>0.60000</td>\n      <td>2.41000</td>\n      <td>0.01500</td>\n      <td>0.11000</td>\n      <td>5.66000</td>\n      <td>29.30000</td>\n      <td>0.84000</td>\n      <td>2.29000</td>\n      <td>0.04000</td>\n    </tr>\n  </tbody>\n</table>\n<p>393 rows × 16 columns</p>\n</div>"
     },
     "metadata": {},
     "execution_count": 24
    }
   ],
   "source": [
    "final_data = final_data.sort_values(by='PC 1', ascending=False)\n",
    "#final_data.sort_values(by='PC 1', ascending=False).head(10)\n",
    "final_data.reset_index(drop=True, inplace=True)\n",
    "final_data"
   ]
  }
 ]
}